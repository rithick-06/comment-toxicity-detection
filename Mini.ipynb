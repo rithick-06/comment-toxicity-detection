{
 "cells": [
  {
   "cell_type": "code",
   "execution_count": 2,
   "metadata": {
    "scrolled": true
   },
   "outputs": [
    {
     "name": "stdout",
     "output_type": "stream",
     "text": [
      "Requirement already satisfied: numpy in c:\\users\\anushya varshini k\\desktop\\comment toxicity detection\\mini\\lib\\site-packages (2.0.2)\n",
      "Requirement already satisfied: pandas in c:\\users\\anushya varshini k\\desktop\\comment toxicity detection\\mini\\lib\\site-packages (2.2.3)\n",
      "Requirement already satisfied: tensorflow in c:\\users\\anushya varshini k\\desktop\\comment toxicity detection\\mini\\lib\\site-packages (2.18.0)\n",
      "Requirement already satisfied: scikit-learn in c:\\users\\anushya varshini k\\desktop\\comment toxicity detection\\mini\\lib\\site-packages (1.5.2)\n",
      "Requirement already satisfied: gradio in c:\\users\\anushya varshini k\\desktop\\comment toxicity detection\\mini\\lib\\site-packages (5.4.0)\n",
      "Requirement already satisfied: python-dateutil>=2.8.2 in c:\\users\\anushya varshini k\\desktop\\comment toxicity detection\\mini\\lib\\site-packages (from pandas) (2.9.0.post0)\n",
      "Requirement already satisfied: tzdata>=2022.7 in c:\\users\\anushya varshini k\\desktop\\comment toxicity detection\\mini\\lib\\site-packages (from pandas) (2024.2)\n",
      "Requirement already satisfied: pytz>=2020.1 in c:\\users\\anushya varshini k\\desktop\\comment toxicity detection\\mini\\lib\\site-packages (from pandas) (2024.2)\n",
      "Requirement already satisfied: tensorflow-intel==2.18.0 in c:\\users\\anushya varshini k\\desktop\\comment toxicity detection\\mini\\lib\\site-packages (from tensorflow) (2.18.0)\n",
      "Requirement already satisfied: packaging in c:\\users\\anushya varshini k\\desktop\\comment toxicity detection\\mini\\lib\\site-packages (from tensorflow-intel==2.18.0->tensorflow) (24.1)\n",
      "Requirement already satisfied: keras>=3.5.0 in c:\\users\\anushya varshini k\\desktop\\comment toxicity detection\\mini\\lib\\site-packages (from tensorflow-intel==2.18.0->tensorflow) (3.6.0)\n",
      "Requirement already satisfied: requests<3,>=2.21.0 in c:\\users\\anushya varshini k\\desktop\\comment toxicity detection\\mini\\lib\\site-packages (from tensorflow-intel==2.18.0->tensorflow) (2.32.3)\n",
      "Requirement already satisfied: grpcio<2.0,>=1.24.3 in c:\\users\\anushya varshini k\\desktop\\comment toxicity detection\\mini\\lib\\site-packages (from tensorflow-intel==2.18.0->tensorflow) (1.67.1)\n",
      "Requirement already satisfied: gast!=0.5.0,!=0.5.1,!=0.5.2,>=0.2.1 in c:\\users\\anushya varshini k\\desktop\\comment toxicity detection\\mini\\lib\\site-packages (from tensorflow-intel==2.18.0->tensorflow) (0.6.0)\n",
      "Requirement already satisfied: tensorboard<2.19,>=2.18 in c:\\users\\anushya varshini k\\desktop\\comment toxicity detection\\mini\\lib\\site-packages (from tensorflow-intel==2.18.0->tensorflow) (2.18.0)\n",
      "Requirement already satisfied: typing-extensions>=3.6.6 in c:\\users\\anushya varshini k\\desktop\\comment toxicity detection\\mini\\lib\\site-packages (from tensorflow-intel==2.18.0->tensorflow) (4.12.2)\n",
      "Requirement already satisfied: google-pasta>=0.1.1 in c:\\users\\anushya varshini k\\desktop\\comment toxicity detection\\mini\\lib\\site-packages (from tensorflow-intel==2.18.0->tensorflow) (0.2.0)\n",
      "Requirement already satisfied: opt-einsum>=2.3.2 in c:\\users\\anushya varshini k\\desktop\\comment toxicity detection\\mini\\lib\\site-packages (from tensorflow-intel==2.18.0->tensorflow) (3.4.0)\n",
      "Requirement already satisfied: six>=1.12.0 in c:\\users\\anushya varshini k\\desktop\\comment toxicity detection\\mini\\lib\\site-packages (from tensorflow-intel==2.18.0->tensorflow) (1.16.0)\n",
      "Requirement already satisfied: termcolor>=1.1.0 in c:\\users\\anushya varshini k\\desktop\\comment toxicity detection\\mini\\lib\\site-packages (from tensorflow-intel==2.18.0->tensorflow) (2.5.0)\n",
      "Requirement already satisfied: h5py>=3.11.0 in c:\\users\\anushya varshini k\\desktop\\comment toxicity detection\\mini\\lib\\site-packages (from tensorflow-intel==2.18.0->tensorflow) (3.12.1)\n",
      "Requirement already satisfied: setuptools in c:\\users\\anushya varshini k\\desktop\\comment toxicity detection\\mini\\lib\\site-packages (from tensorflow-intel==2.18.0->tensorflow) (65.5.0)\n",
      "Requirement already satisfied: absl-py>=1.0.0 in c:\\users\\anushya varshini k\\desktop\\comment toxicity detection\\mini\\lib\\site-packages (from tensorflow-intel==2.18.0->tensorflow) (2.1.0)\n",
      "Requirement already satisfied: ml-dtypes<0.5.0,>=0.4.0 in c:\\users\\anushya varshini k\\desktop\\comment toxicity detection\\mini\\lib\\site-packages (from tensorflow-intel==2.18.0->tensorflow) (0.4.1)\n",
      "Requirement already satisfied: flatbuffers>=24.3.25 in c:\\users\\anushya varshini k\\desktop\\comment toxicity detection\\mini\\lib\\site-packages (from tensorflow-intel==2.18.0->tensorflow) (24.3.25)\n",
      "Requirement already satisfied: libclang>=13.0.0 in c:\\users\\anushya varshini k\\desktop\\comment toxicity detection\\mini\\lib\\site-packages (from tensorflow-intel==2.18.0->tensorflow) (18.1.1)\n",
      "Requirement already satisfied: astunparse>=1.6.0 in c:\\users\\anushya varshini k\\desktop\\comment toxicity detection\\mini\\lib\\site-packages (from tensorflow-intel==2.18.0->tensorflow) (1.6.3)\n",
      "Requirement already satisfied: protobuf!=4.21.0,!=4.21.1,!=4.21.2,!=4.21.3,!=4.21.4,!=4.21.5,<6.0.0dev,>=3.20.3 in c:\\users\\anushya varshini k\\desktop\\comment toxicity detection\\mini\\lib\\site-packages (from tensorflow-intel==2.18.0->tensorflow) (5.28.3)\n",
      "Requirement already satisfied: tensorflow-io-gcs-filesystem>=0.23.1 in c:\\users\\anushya varshini k\\desktop\\comment toxicity detection\\mini\\lib\\site-packages (from tensorflow-intel==2.18.0->tensorflow) (0.31.0)\n",
      "Requirement already satisfied: wrapt>=1.11.0 in c:\\users\\anushya varshini k\\desktop\\comment toxicity detection\\mini\\lib\\site-packages (from tensorflow-intel==2.18.0->tensorflow) (1.16.0)\n",
      "Requirement already satisfied: scipy>=1.6.0 in c:\\users\\anushya varshini k\\desktop\\comment toxicity detection\\mini\\lib\\site-packages (from scikit-learn) (1.14.1)\n",
      "Requirement already satisfied: joblib>=1.2.0 in c:\\users\\anushya varshini k\\desktop\\comment toxicity detection\\mini\\lib\\site-packages (from scikit-learn) (1.4.2)\n",
      "Requirement already satisfied: threadpoolctl>=3.1.0 in c:\\users\\anushya varshini k\\desktop\\comment toxicity detection\\mini\\lib\\site-packages (from scikit-learn) (3.5.0)\n",
      "Requirement already satisfied: python-multipart==0.0.12 in c:\\users\\anushya varshini k\\desktop\\comment toxicity detection\\mini\\lib\\site-packages (from gradio) (0.0.12)\n",
      "Requirement already satisfied: pydub in c:\\users\\anushya varshini k\\desktop\\comment toxicity detection\\mini\\lib\\site-packages (from gradio) (0.25.1)\n",
      "Requirement already satisfied: gradio-client==1.4.2 in c:\\users\\anushya varshini k\\desktop\\comment toxicity detection\\mini\\lib\\site-packages (from gradio) (1.4.2)\n",
      "Requirement already satisfied: aiofiles<24.0,>=22.0 in c:\\users\\anushya varshini k\\desktop\\comment toxicity detection\\mini\\lib\\site-packages (from gradio) (23.2.1)\n",
      "Requirement already satisfied: httpx>=0.24.1 in c:\\users\\anushya varshini k\\desktop\\comment toxicity detection\\mini\\lib\\site-packages (from gradio) (0.27.2)\n",
      "Requirement already satisfied: anyio<5.0,>=3.0 in c:\\users\\anushya varshini k\\desktop\\comment toxicity detection\\mini\\lib\\site-packages (from gradio) (4.6.2.post1)\n",
      "Requirement already satisfied: tomlkit==0.12.0 in c:\\users\\anushya varshini k\\desktop\\comment toxicity detection\\mini\\lib\\site-packages (from gradio) (0.12.0)\n",
      "Requirement already satisfied: uvicorn>=0.14.0 in c:\\users\\anushya varshini k\\desktop\\comment toxicity detection\\mini\\lib\\site-packages (from gradio) (0.32.0)\n",
      "Requirement already satisfied: jinja2<4.0 in c:\\users\\anushya varshini k\\desktop\\comment toxicity detection\\mini\\lib\\site-packages (from gradio) (3.1.4)\n",
      "Requirement already satisfied: ruff>=0.2.2 in c:\\users\\anushya varshini k\\desktop\\comment toxicity detection\\mini\\lib\\site-packages (from gradio) (0.7.2)\n",
      "Requirement already satisfied: ffmpy in c:\\users\\anushya varshini k\\desktop\\comment toxicity detection\\mini\\lib\\site-packages (from gradio) (0.4.0)\n",
      "Requirement already satisfied: markupsafe~=2.0 in c:\\users\\anushya varshini k\\desktop\\comment toxicity detection\\mini\\lib\\site-packages (from gradio) (2.1.5)\n",
      "Requirement already satisfied: pillow<12.0,>=8.0 in c:\\users\\anushya varshini k\\desktop\\comment toxicity detection\\mini\\lib\\site-packages (from gradio) (11.0.0)\n",
      "Requirement already satisfied: semantic-version~=2.0 in c:\\users\\anushya varshini k\\desktop\\comment toxicity detection\\mini\\lib\\site-packages (from gradio) (2.10.0)\n",
      "Requirement already satisfied: starlette<1.0,>=0.40.0 in c:\\users\\anushya varshini k\\desktop\\comment toxicity detection\\mini\\lib\\site-packages (from gradio) (0.41.2)\n",
      "Requirement already satisfied: typer<1.0,>=0.12 in c:\\users\\anushya varshini k\\desktop\\comment toxicity detection\\mini\\lib\\site-packages (from gradio) (0.12.5)\n",
      "Requirement already satisfied: huggingface-hub>=0.25.1 in c:\\users\\anushya varshini k\\desktop\\comment toxicity detection\\mini\\lib\\site-packages (from gradio) (0.26.2)\n",
      "Requirement already satisfied: safehttpx<1.0,>=0.1.1 in c:\\users\\anushya varshini k\\desktop\\comment toxicity detection\\mini\\lib\\site-packages (from gradio) (0.1.1)\n",
      "Requirement already satisfied: pydantic>=2.0 in c:\\users\\anushya varshini k\\desktop\\comment toxicity detection\\mini\\lib\\site-packages (from gradio) (2.9.2)\n",
      "Requirement already satisfied: orjson~=3.0 in c:\\users\\anushya varshini k\\desktop\\comment toxicity detection\\mini\\lib\\site-packages (from gradio) (3.10.11)\n",
      "Requirement already satisfied: fastapi<1.0,>=0.115.2 in c:\\users\\anushya varshini k\\desktop\\comment toxicity detection\\mini\\lib\\site-packages (from gradio) (0.115.4)\n",
      "Requirement already satisfied: pyyaml<7.0,>=5.0 in c:\\users\\anushya varshini k\\desktop\\comment toxicity detection\\mini\\lib\\site-packages (from gradio) (6.0.2)\n",
      "Requirement already satisfied: fsspec in c:\\users\\anushya varshini k\\desktop\\comment toxicity detection\\mini\\lib\\site-packages (from gradio-client==1.4.2->gradio) (2024.10.0)\n",
      "Requirement already satisfied: websockets<13.0,>=10.0 in c:\\users\\anushya varshini k\\desktop\\comment toxicity detection\\mini\\lib\\site-packages (from gradio-client==1.4.2->gradio) (12.0)\n",
      "Requirement already satisfied: sniffio>=1.1 in c:\\users\\anushya varshini k\\desktop\\comment toxicity detection\\mini\\lib\\site-packages (from anyio<5.0,>=3.0->gradio) (1.3.1)\n",
      "Requirement already satisfied: exceptiongroup>=1.0.2 in c:\\users\\anushya varshini k\\desktop\\comment toxicity detection\\mini\\lib\\site-packages (from anyio<5.0,>=3.0->gradio) (1.2.2)\n",
      "Requirement already satisfied: idna>=2.8 in c:\\users\\anushya varshini k\\desktop\\comment toxicity detection\\mini\\lib\\site-packages (from anyio<5.0,>=3.0->gradio) (3.10)\n",
      "Requirement already satisfied: certifi in c:\\users\\anushya varshini k\\desktop\\comment toxicity detection\\mini\\lib\\site-packages (from httpx>=0.24.1->gradio) (2024.8.30)\n",
      "Requirement already satisfied: httpcore==1.* in c:\\users\\anushya varshini k\\desktop\\comment toxicity detection\\mini\\lib\\site-packages (from httpx>=0.24.1->gradio) (1.0.6)\n",
      "Requirement already satisfied: h11<0.15,>=0.13 in c:\\users\\anushya varshini k\\desktop\\comment toxicity detection\\mini\\lib\\site-packages (from httpcore==1.*->httpx>=0.24.1->gradio) (0.14.0)\n",
      "Requirement already satisfied: tqdm>=4.42.1 in c:\\users\\anushya varshini k\\desktop\\comment toxicity detection\\mini\\lib\\site-packages (from huggingface-hub>=0.25.1->gradio) (4.66.6)\n",
      "Requirement already satisfied: filelock in c:\\users\\anushya varshini k\\desktop\\comment toxicity detection\\mini\\lib\\site-packages (from huggingface-hub>=0.25.1->gradio) (3.16.1)\n",
      "Requirement already satisfied: annotated-types>=0.6.0 in c:\\users\\anushya varshini k\\desktop\\comment toxicity detection\\mini\\lib\\site-packages (from pydantic>=2.0->gradio) (0.7.0)\n",
      "Requirement already satisfied: pydantic-core==2.23.4 in c:\\users\\anushya varshini k\\desktop\\comment toxicity detection\\mini\\lib\\site-packages (from pydantic>=2.0->gradio) (2.23.4)\n",
      "Requirement already satisfied: click>=8.0.0 in c:\\users\\anushya varshini k\\desktop\\comment toxicity detection\\mini\\lib\\site-packages (from typer<1.0,>=0.12->gradio) (8.1.7)\n",
      "Requirement already satisfied: rich>=10.11.0 in c:\\users\\anushya varshini k\\desktop\\comment toxicity detection\\mini\\lib\\site-packages (from typer<1.0,>=0.12->gradio) (13.9.4)\n",
      "Requirement already satisfied: shellingham>=1.3.0 in c:\\users\\anushya varshini k\\desktop\\comment toxicity detection\\mini\\lib\\site-packages (from typer<1.0,>=0.12->gradio) (1.5.4)\n",
      "Requirement already satisfied: wheel<1.0,>=0.23.0 in c:\\users\\anushya varshini k\\desktop\\comment toxicity detection\\mini\\lib\\site-packages (from astunparse>=1.6.0->tensorflow-intel==2.18.0->tensorflow) (0.44.0)\n",
      "Requirement already satisfied: colorama in c:\\users\\anushya varshini k\\desktop\\comment toxicity detection\\mini\\lib\\site-packages (from click>=8.0.0->typer<1.0,>=0.12->gradio) (0.4.6)\n",
      "Requirement already satisfied: optree in c:\\users\\anushya varshini k\\desktop\\comment toxicity detection\\mini\\lib\\site-packages (from keras>=3.5.0->tensorflow-intel==2.18.0->tensorflow) (0.13.0)\n",
      "Requirement already satisfied: namex in c:\\users\\anushya varshini k\\desktop\\comment toxicity detection\\mini\\lib\\site-packages (from keras>=3.5.0->tensorflow-intel==2.18.0->tensorflow) (0.0.8)\n",
      "Requirement already satisfied: urllib3<3,>=1.21.1 in c:\\users\\anushya varshini k\\desktop\\comment toxicity detection\\mini\\lib\\site-packages (from requests<3,>=2.21.0->tensorflow-intel==2.18.0->tensorflow) (2.2.3)\n",
      "Requirement already satisfied: charset-normalizer<4,>=2 in c:\\users\\anushya varshini k\\desktop\\comment toxicity detection\\mini\\lib\\site-packages (from requests<3,>=2.21.0->tensorflow-intel==2.18.0->tensorflow) (3.4.0)\n",
      "Requirement already satisfied: pygments<3.0.0,>=2.13.0 in c:\\users\\anushya varshini k\\desktop\\comment toxicity detection\\mini\\lib\\site-packages (from rich>=10.11.0->typer<1.0,>=0.12->gradio) (2.18.0)\n",
      "Requirement already satisfied: markdown-it-py>=2.2.0 in c:\\users\\anushya varshini k\\desktop\\comment toxicity detection\\mini\\lib\\site-packages (from rich>=10.11.0->typer<1.0,>=0.12->gradio) (3.0.0)\n",
      "Requirement already satisfied: werkzeug>=1.0.1 in c:\\users\\anushya varshini k\\desktop\\comment toxicity detection\\mini\\lib\\site-packages (from tensorboard<2.19,>=2.18->tensorflow-intel==2.18.0->tensorflow) (3.1.1)\n",
      "Requirement already satisfied: markdown>=2.6.8 in c:\\users\\anushya varshini k\\desktop\\comment toxicity detection\\mini\\lib\\site-packages (from tensorboard<2.19,>=2.18->tensorflow-intel==2.18.0->tensorflow) (3.7)\n",
      "Requirement already satisfied: tensorboard-data-server<0.8.0,>=0.7.0 in c:\\users\\anushya varshini k\\desktop\\comment toxicity detection\\mini\\lib\\site-packages (from tensorboard<2.19,>=2.18->tensorflow-intel==2.18.0->tensorflow) (0.7.2)\n",
      "Requirement already satisfied: mdurl~=0.1 in c:\\users\\anushya varshini k\\desktop\\comment toxicity detection\\mini\\lib\\site-packages (from markdown-it-py>=2.2.0->rich>=10.11.0->typer<1.0,>=0.12->gradio) (0.1.2)\n"
     ]
    },
    {
     "name": "stderr",
     "output_type": "stream",
     "text": [
      "\n",
      "[notice] A new release of pip is available: 23.0.1 -> 24.3.1\n",
      "[notice] To update, run: python.exe -m pip install --upgrade pip\n"
     ]
    }
   ],
   "source": [
    "!pip install numpy pandas tensorflow scikit-learn gradio\n"
   ]
  },
  {
   "cell_type": "code",
   "execution_count": 3,
   "metadata": {
    "colab": {
     "base_uri": "https://localhost:8080/"
    },
    "id": "LsiGySYXM-cO",
    "outputId": "f353c538-9079-4b67-e9de-30e71ace7234",
    "scrolled": true
   },
   "outputs": [
    {
     "name": "stderr",
     "output_type": "stream",
     "text": [
      "C:\\Users\\Anushya Varshini K\\AppData\\Local\\Temp\\ipykernel_16848\\4227845780.py:11: FutureWarning: A value is trying to be set on a copy of a DataFrame or Series through chained assignment using an inplace method.\n",
      "The behavior will change in pandas 3.0. This inplace method will never work because the intermediate object on which we are setting values always behaves as a copy.\n",
      "\n",
      "For example, when doing 'df[col].method(value, inplace=True)', try using 'df.method({col: value}, inplace=True)' or df[col] = df[col].method(value) instead, to perform the operation inplace on the original object.\n",
      "\n",
      "\n",
      "  df['comment_text'].fillna(\"\", inplace=True)\n"
     ]
    },
    {
     "name": "stdout",
     "output_type": "stream",
     "text": [
      "Epoch 1/5\n"
     ]
    },
    {
     "name": "stderr",
     "output_type": "stream",
     "text": [
      "C:\\Users\\Anushya Varshini K\\Desktop\\comment toxicity detection\\mini\\lib\\site-packages\\keras\\src\\layers\\core\\embedding.py:90: UserWarning: Argument `input_length` is deprecated. Just remove it.\n",
      "  warnings.warn(\n"
     ]
    },
    {
     "name": "stdout",
     "output_type": "stream",
     "text": [
      "\u001b[1m2884/2884\u001b[0m \u001b[32m━━━━━━━━━━━━━━━━━━━━\u001b[0m\u001b[37m\u001b[0m \u001b[1m133s\u001b[0m 45ms/step - accuracy: 0.7961 - loss: 0.2013 - val_accuracy: 0.9795 - val_loss: 0.1124\n",
      "Epoch 2/5\n",
      "\u001b[1m2884/2884\u001b[0m \u001b[32m━━━━━━━━━━━━━━━━━━━━\u001b[0m\u001b[37m\u001b[0m \u001b[1m130s\u001b[0m 45ms/step - accuracy: 0.9514 - loss: 0.1051 - val_accuracy: 0.9783 - val_loss: 0.0803\n",
      "Epoch 3/5\n",
      "\u001b[1m2884/2884\u001b[0m \u001b[32m━━━━━━━━━━━━━━━━━━━━\u001b[0m\u001b[37m\u001b[0m \u001b[1m130s\u001b[0m 45ms/step - accuracy: 0.8769 - loss: 0.0722 - val_accuracy: 0.9698 - val_loss: 0.0627\n",
      "Epoch 4/5\n",
      "\u001b[1m2884/2884\u001b[0m \u001b[32m━━━━━━━━━━━━━━━━━━━━\u001b[0m\u001b[37m\u001b[0m \u001b[1m129s\u001b[0m 45ms/step - accuracy: 0.7440 - loss: 0.0511 - val_accuracy: 0.9481 - val_loss: 0.0548\n",
      "Epoch 5/5\n",
      "\u001b[1m2884/2884\u001b[0m \u001b[32m━━━━━━━━━━━━━━━━━━━━\u001b[0m\u001b[37m\u001b[0m \u001b[1m132s\u001b[0m 46ms/step - accuracy: 0.7761 - loss: 0.0385 - val_accuracy: 0.9533 - val_loss: 0.0458\n"
     ]
    },
    {
     "name": "stderr",
     "output_type": "stream",
     "text": [
      "WARNING:absl:You are saving your model as an HDF5 file via `model.save()` or `keras.saving.save_model(model)`. This file format is considered legacy. We recommend using instead the native Keras format, e.g. `model.save('my_model.keras')` or `keras.saving.save_model(model, 'my_model.keras')`. \n"
     ]
    },
    {
     "name": "stdout",
     "output_type": "stream",
     "text": [
      "Model and tokenizer saved!\n"
     ]
    }
   ],
   "source": [
    "import numpy as np\n",
    "import pandas as pd\n",
    "from tensorflow.keras.preprocessing.text import Tokenizer\n",
    "from tensorflow.keras.preprocessing.sequence import pad_sequences\n",
    "from tensorflow.keras.models import Sequential\n",
    "from tensorflow.keras.layers import Embedding, Conv1D, MaxPooling1D, LSTM, GRU, Dense, Dropout, Bidirectional\n",
    "from sklearn.model_selection import train_test_split\n",
    "\n",
    "df = pd.read_csv('final_extended_toxic_comments_train.csv')\n",
    "\n",
    "df['comment_text'].fillna(\"\", inplace=True)\n",
    "\n",
    "MAX_NUM_WORDS = 10000  \n",
    "MAX_SEQUENCE_LENGTH = 100 \n",
    "EMBEDDING_DIM = 100  \n",
    "\n",
    "# Tokenizer to convert text to sequences of integers\n",
    "tokenizer = Tokenizer(num_words=MAX_NUM_WORDS)\n",
    "tokenizer.fit_on_texts(df['comment_text'].values)\n",
    "sequences = tokenizer.texts_to_sequences(df['comment_text'].values)\n",
    "\n",
    "# Pad the sequences to ensure consistent input size\n",
    "X = pad_sequences(sequences, maxlen=MAX_SEQUENCE_LENGTH)\n",
    "\n",
    "# Labels for multi-label classification\n",
    "y = df[['toxic', 'severe_toxic', 'obscene', 'threat', 'insult', 'identity_hate']].values\n",
    "\n",
    "X_train, X_val, y_train, y_val = train_test_split(X, y, test_size=0.2, random_state=42)\n",
    "\n",
    "# Build the hybrid CNN + RNN (LSTM) model\n",
    "model = Sequential()\n",
    "\n",
    "# Embedding layer\n",
    "model.add(Embedding(MAX_NUM_WORDS, EMBEDDING_DIM, input_length=MAX_SEQUENCE_LENGTH))\n",
    "\n",
    "# CNN part \n",
    "model.add(Conv1D(filters=128, kernel_size=5, activation='relu'))\n",
    "model.add(MaxPooling1D(pool_size=2))\n",
    "\n",
    "# RNN part \n",
    "model.add(Bidirectional(LSTM(100, return_sequences=True)))\n",
    "\n",
    "# Optional: Add another RNN layer (GRU in this case)\n",
    "model.add(GRU(100))\n",
    "\n",
    "# Dense layers for output\n",
    "model.add(Dense(50, activation='relu'))\n",
    "model.add(Dropout(0.5)) \n",
    "\n",
    "# Output layer with sigmoid activation for multi-label classification\n",
    "model.add(Dense(6, activation='sigmoid'))  # 6 output units for 6 labels\n",
    "\n",
    "# Compile the model (for multi-label classification, use binary crossentropy)\n",
    "model.compile(loss='binary_crossentropy', optimizer='adam', metrics=['accuracy'])\n",
    "\n",
    "history = model.fit(X_train, y_train, epochs=5, batch_size=64, validation_data=(X_val, y_val), verbose=1)\n",
    "\n",
    "model.save('toxic_comment_model.h5')\n",
    "\n",
    "import pickle\n",
    "with open('tokenizer.pkl', 'wb') as handle:\n",
    "    pickle.dump(tokenizer, handle, protocol=pickle.HIGHEST_PROTOCOL)\n",
    "\n",
    "print(\"Model and tokenizer saved!\")\n"
   ]
  },
  {
   "cell_type": "code",
   "execution_count": 4,
   "metadata": {
    "colab": {
     "base_uri": "https://localhost:8080/"
    },
    "id": "O1JaGeB5cY8S",
    "outputId": "91f14c82-c80e-489d-d057-530d716b69c3",
    "scrolled": true
   },
   "outputs": [
    {
     "name": "stdout",
     "output_type": "stream",
     "text": [
      "Requirement already satisfied: gradio in c:\\users\\anushya varshini k\\desktop\\comment toxicity detection\\mini\\lib\\site-packages (5.4.0)\n",
      "Requirement already satisfied: markupsafe~=2.0 in c:\\users\\anushya varshini k\\desktop\\comment toxicity detection\\mini\\lib\\site-packages (from gradio) (2.1.5)\n",
      "Requirement already satisfied: huggingface-hub>=0.25.1 in c:\\users\\anushya varshini k\\desktop\\comment toxicity detection\\mini\\lib\\site-packages (from gradio) (0.26.2)\n",
      "Requirement already satisfied: gradio-client==1.4.2 in c:\\users\\anushya varshini k\\desktop\\comment toxicity detection\\mini\\lib\\site-packages (from gradio) (1.4.2)\n",
      "Requirement already satisfied: pillow<12.0,>=8.0 in c:\\users\\anushya varshini k\\desktop\\comment toxicity detection\\mini\\lib\\site-packages (from gradio) (11.0.0)\n",
      "Requirement already satisfied: pyyaml<7.0,>=5.0 in c:\\users\\anushya varshini k\\desktop\\comment toxicity detection\\mini\\lib\\site-packages (from gradio) (6.0.2)\n",
      "Requirement already satisfied: packaging in c:\\users\\anushya varshini k\\desktop\\comment toxicity detection\\mini\\lib\\site-packages (from gradio) (24.1)\n",
      "Requirement already satisfied: ffmpy in c:\\users\\anushya varshini k\\desktop\\comment toxicity detection\\mini\\lib\\site-packages (from gradio) (0.4.0)\n",
      "Requirement already satisfied: fastapi<1.0,>=0.115.2 in c:\\users\\anushya varshini k\\desktop\\comment toxicity detection\\mini\\lib\\site-packages (from gradio) (0.115.4)\n",
      "Requirement already satisfied: typing-extensions~=4.0 in c:\\users\\anushya varshini k\\desktop\\comment toxicity detection\\mini\\lib\\site-packages (from gradio) (4.12.2)\n",
      "Requirement already satisfied: python-multipart==0.0.12 in c:\\users\\anushya varshini k\\desktop\\comment toxicity detection\\mini\\lib\\site-packages (from gradio) (0.0.12)\n",
      "Requirement already satisfied: pydantic>=2.0 in c:\\users\\anushya varshini k\\desktop\\comment toxicity detection\\mini\\lib\\site-packages (from gradio) (2.9.2)\n",
      "Requirement already satisfied: httpx>=0.24.1 in c:\\users\\anushya varshini k\\desktop\\comment toxicity detection\\mini\\lib\\site-packages (from gradio) (0.27.2)\n",
      "Requirement already satisfied: ruff>=0.2.2 in c:\\users\\anushya varshini k\\desktop\\comment toxicity detection\\mini\\lib\\site-packages (from gradio) (0.7.2)\n",
      "Requirement already satisfied: safehttpx<1.0,>=0.1.1 in c:\\users\\anushya varshini k\\desktop\\comment toxicity detection\\mini\\lib\\site-packages (from gradio) (0.1.1)\n",
      "Requirement already satisfied: tomlkit==0.12.0 in c:\\users\\anushya varshini k\\desktop\\comment toxicity detection\\mini\\lib\\site-packages (from gradio) (0.12.0)\n",
      "Requirement already satisfied: semantic-version~=2.0 in c:\\users\\anushya varshini k\\desktop\\comment toxicity detection\\mini\\lib\\site-packages (from gradio) (2.10.0)\n",
      "Requirement already satisfied: aiofiles<24.0,>=22.0 in c:\\users\\anushya varshini k\\desktop\\comment toxicity detection\\mini\\lib\\site-packages (from gradio) (23.2.1)\n",
      "Requirement already satisfied: numpy<3.0,>=1.0 in c:\\users\\anushya varshini k\\desktop\\comment toxicity detection\\mini\\lib\\site-packages (from gradio) (2.0.2)\n",
      "Requirement already satisfied: typer<1.0,>=0.12 in c:\\users\\anushya varshini k\\desktop\\comment toxicity detection\\mini\\lib\\site-packages (from gradio) (0.12.5)\n",
      "Requirement already satisfied: jinja2<4.0 in c:\\users\\anushya varshini k\\desktop\\comment toxicity detection\\mini\\lib\\site-packages (from gradio) (3.1.4)\n",
      "Requirement already satisfied: anyio<5.0,>=3.0 in c:\\users\\anushya varshini k\\desktop\\comment toxicity detection\\mini\\lib\\site-packages (from gradio) (4.6.2.post1)\n",
      "Requirement already satisfied: uvicorn>=0.14.0 in c:\\users\\anushya varshini k\\desktop\\comment toxicity detection\\mini\\lib\\site-packages (from gradio) (0.32.0)\n",
      "Requirement already satisfied: pydub in c:\\users\\anushya varshini k\\desktop\\comment toxicity detection\\mini\\lib\\site-packages (from gradio) (0.25.1)\n",
      "Requirement already satisfied: orjson~=3.0 in c:\\users\\anushya varshini k\\desktop\\comment toxicity detection\\mini\\lib\\site-packages (from gradio) (3.10.11)\n",
      "Requirement already satisfied: pandas<3.0,>=1.0 in c:\\users\\anushya varshini k\\desktop\\comment toxicity detection\\mini\\lib\\site-packages (from gradio) (2.2.3)\n",
      "Requirement already satisfied: starlette<1.0,>=0.40.0 in c:\\users\\anushya varshini k\\desktop\\comment toxicity detection\\mini\\lib\\site-packages (from gradio) (0.41.2)\n",
      "Requirement already satisfied: fsspec in c:\\users\\anushya varshini k\\desktop\\comment toxicity detection\\mini\\lib\\site-packages (from gradio-client==1.4.2->gradio) (2024.10.0)\n",
      "Requirement already satisfied: websockets<13.0,>=10.0 in c:\\users\\anushya varshini k\\desktop\\comment toxicity detection\\mini\\lib\\site-packages (from gradio-client==1.4.2->gradio) (12.0)\n",
      "Requirement already satisfied: idna>=2.8 in c:\\users\\anushya varshini k\\desktop\\comment toxicity detection\\mini\\lib\\site-packages (from anyio<5.0,>=3.0->gradio) (3.10)\n",
      "Requirement already satisfied: exceptiongroup>=1.0.2 in c:\\users\\anushya varshini k\\desktop\\comment toxicity detection\\mini\\lib\\site-packages (from anyio<5.0,>=3.0->gradio) (1.2.2)\n",
      "Requirement already satisfied: sniffio>=1.1 in c:\\users\\anushya varshini k\\desktop\\comment toxicity detection\\mini\\lib\\site-packages (from anyio<5.0,>=3.0->gradio) (1.3.1)\n",
      "Requirement already satisfied: httpcore==1.* in c:\\users\\anushya varshini k\\desktop\\comment toxicity detection\\mini\\lib\\site-packages (from httpx>=0.24.1->gradio) (1.0.6)\n",
      "Requirement already satisfied: certifi in c:\\users\\anushya varshini k\\desktop\\comment toxicity detection\\mini\\lib\\site-packages (from httpx>=0.24.1->gradio) (2024.8.30)\n",
      "Requirement already satisfied: h11<0.15,>=0.13 in c:\\users\\anushya varshini k\\desktop\\comment toxicity detection\\mini\\lib\\site-packages (from httpcore==1.*->httpx>=0.24.1->gradio) (0.14.0)\n",
      "Requirement already satisfied: tqdm>=4.42.1 in c:\\users\\anushya varshini k\\desktop\\comment toxicity detection\\mini\\lib\\site-packages (from huggingface-hub>=0.25.1->gradio) (4.66.6)\n",
      "Requirement already satisfied: filelock in c:\\users\\anushya varshini k\\desktop\\comment toxicity detection\\mini\\lib\\site-packages (from huggingface-hub>=0.25.1->gradio) (3.16.1)\n",
      "Requirement already satisfied: requests in c:\\users\\anushya varshini k\\desktop\\comment toxicity detection\\mini\\lib\\site-packages (from huggingface-hub>=0.25.1->gradio) (2.32.3)\n",
      "Requirement already satisfied: pytz>=2020.1 in c:\\users\\anushya varshini k\\desktop\\comment toxicity detection\\mini\\lib\\site-packages (from pandas<3.0,>=1.0->gradio) (2024.2)\n",
      "Requirement already satisfied: tzdata>=2022.7 in c:\\users\\anushya varshini k\\desktop\\comment toxicity detection\\mini\\lib\\site-packages (from pandas<3.0,>=1.0->gradio) (2024.2)\n",
      "Requirement already satisfied: python-dateutil>=2.8.2 in c:\\users\\anushya varshini k\\desktop\\comment toxicity detection\\mini\\lib\\site-packages (from pandas<3.0,>=1.0->gradio) (2.9.0.post0)\n",
      "Requirement already satisfied: annotated-types>=0.6.0 in c:\\users\\anushya varshini k\\desktop\\comment toxicity detection\\mini\\lib\\site-packages (from pydantic>=2.0->gradio) (0.7.0)\n",
      "Requirement already satisfied: pydantic-core==2.23.4 in c:\\users\\anushya varshini k\\desktop\\comment toxicity detection\\mini\\lib\\site-packages (from pydantic>=2.0->gradio) (2.23.4)\n",
      "Requirement already satisfied: shellingham>=1.3.0 in c:\\users\\anushya varshini k\\desktop\\comment toxicity detection\\mini\\lib\\site-packages (from typer<1.0,>=0.12->gradio) (1.5.4)\n",
      "Requirement already satisfied: click>=8.0.0 in c:\\users\\anushya varshini k\\desktop\\comment toxicity detection\\mini\\lib\\site-packages (from typer<1.0,>=0.12->gradio) (8.1.7)\n",
      "Requirement already satisfied: rich>=10.11.0 in c:\\users\\anushya varshini k\\desktop\\comment toxicity detection\\mini\\lib\\site-packages (from typer<1.0,>=0.12->gradio) (13.9.4)\n",
      "Requirement already satisfied: colorama in c:\\users\\anushya varshini k\\desktop\\comment toxicity detection\\mini\\lib\\site-packages (from click>=8.0.0->typer<1.0,>=0.12->gradio) (0.4.6)\n",
      "Requirement already satisfied: six>=1.5 in c:\\users\\anushya varshini k\\desktop\\comment toxicity detection\\mini\\lib\\site-packages (from python-dateutil>=2.8.2->pandas<3.0,>=1.0->gradio) (1.16.0)\n",
      "Requirement already satisfied: pygments<3.0.0,>=2.13.0 in c:\\users\\anushya varshini k\\desktop\\comment toxicity detection\\mini\\lib\\site-packages (from rich>=10.11.0->typer<1.0,>=0.12->gradio) (2.18.0)\n",
      "Requirement already satisfied: markdown-it-py>=2.2.0 in c:\\users\\anushya varshini k\\desktop\\comment toxicity detection\\mini\\lib\\site-packages (from rich>=10.11.0->typer<1.0,>=0.12->gradio) (3.0.0)\n",
      "Requirement already satisfied: urllib3<3,>=1.21.1 in c:\\users\\anushya varshini k\\desktop\\comment toxicity detection\\mini\\lib\\site-packages (from requests->huggingface-hub>=0.25.1->gradio) (2.2.3)\n",
      "Requirement already satisfied: charset-normalizer<4,>=2 in c:\\users\\anushya varshini k\\desktop\\comment toxicity detection\\mini\\lib\\site-packages (from requests->huggingface-hub>=0.25.1->gradio) (3.4.0)\n",
      "Requirement already satisfied: mdurl~=0.1 in c:\\users\\anushya varshini k\\desktop\\comment toxicity detection\\mini\\lib\\site-packages (from markdown-it-py>=2.2.0->rich>=10.11.0->typer<1.0,>=0.12->gradio) (0.1.2)\n"
     ]
    },
    {
     "name": "stderr",
     "output_type": "stream",
     "text": [
      "\n",
      "[notice] A new release of pip is available: 23.0.1 -> 24.3.1\n",
      "[notice] To update, run: python.exe -m pip install --upgrade pip\n"
     ]
    }
   ],
   "source": [
    "!pip install gradio\n"
   ]
  },
  {
   "cell_type": "code",
   "execution_count": 5,
   "metadata": {
    "colab": {
     "base_uri": "https://localhost:8080/",
     "height": 1000
    },
    "id": "iYt-cKL7cnav",
    "outputId": "2a9d5ad5-dbdb-4681-961f-6de9fc223acf"
   },
   "outputs": [
    {
     "name": "stderr",
     "output_type": "stream",
     "text": [
      "ERROR: Invalid requirement: '#Upgrade'\n",
      "\n",
      "[notice] A new release of pip is available: 23.0.1 -> 24.3.1\n",
      "[notice] To update, run: python.exe -m pip install --upgrade pip\n",
      "WARNING:absl:Compiled the loaded model, but the compiled metrics have yet to be built. `model.compile_metrics` will be empty until you train or evaluate the model.\n"
     ]
    },
    {
     "name": "stdout",
     "output_type": "stream",
     "text": [
      "* Running on local URL:  http://127.0.0.1:7861\n",
      "\n",
      "To create a public link, set `share=True` in `launch()`.\n"
     ]
    },
    {
     "data": {
      "text/html": [
       "<div><iframe src=\"http://127.0.0.1:7861/\" width=\"100%\" height=\"500\" allow=\"autoplay; camera; microphone; clipboard-read; clipboard-write;\" frameborder=\"0\" allowfullscreen></iframe></div>"
      ],
      "text/plain": [
       "<IPython.core.display.HTML object>"
      ]
     },
     "metadata": {},
     "output_type": "display_data"
    },
    {
     "data": {
      "text/plain": []
     },
     "execution_count": 5,
     "metadata": {},
     "output_type": "execute_result"
    },
    {
     "name": "stdout",
     "output_type": "stream",
     "text": [
      "\u001b[1m1/1\u001b[0m \u001b[32m━━━━━━━━━━━━━━━━━━━━\u001b[0m\u001b[37m\u001b[0m \u001b[1m0s\u001b[0m 437ms/step\n",
      "\u001b[1m1/1\u001b[0m \u001b[32m━━━━━━━━━━━━━━━━━━━━\u001b[0m\u001b[37m\u001b[0m \u001b[1m0s\u001b[0m 26ms/step\n",
      "\u001b[1m1/1\u001b[0m \u001b[32m━━━━━━━━━━━━━━━━━━━━\u001b[0m\u001b[37m\u001b[0m \u001b[1m0s\u001b[0m 30ms/step\n",
      "\u001b[1m1/1\u001b[0m \u001b[32m━━━━━━━━━━━━━━━━━━━━\u001b[0m\u001b[37m\u001b[0m \u001b[1m0s\u001b[0m 22ms/step\n",
      "\u001b[1m1/1\u001b[0m \u001b[32m━━━━━━━━━━━━━━━━━━━━\u001b[0m\u001b[37m\u001b[0m \u001b[1m0s\u001b[0m 31ms/step\n",
      "\u001b[1m1/1\u001b[0m \u001b[32m━━━━━━━━━━━━━━━━━━━━\u001b[0m\u001b[37m\u001b[0m \u001b[1m0s\u001b[0m 29ms/step\n",
      "\u001b[1m1/1\u001b[0m \u001b[32m━━━━━━━━━━━━━━━━━━━━\u001b[0m\u001b[37m\u001b[0m \u001b[1m0s\u001b[0m 30ms/step\n"
     ]
    }
   ],
   "source": [
    "!pip install gradio --upgrade #Upgrade Gradio to the latest version\n",
    "\n",
    "import numpy as np\n",
    "import gradio as gr\n",
    "import pickle\n",
    "from tensorflow.keras.models import load_model\n",
    "from tensorflow.keras.preprocessing.sequence import pad_sequences\n",
    "\n",
    "\n",
    "model = load_model('toxic_comment_model.h5')\n",
    "\n",
    "with open('tokenizer.pkl', 'rb') as handle:\n",
    "    tokenizer = pickle.load(handle)\n",
    "\n",
    "MAX_SEQUENCE_LENGTH = 100\n",
    "toxicity_labels = ['toxic', 'severe_toxic', 'obscene', 'threat', 'insult', 'identity_hate']\n",
    "\n",
    "# Function to predict toxicity of a comment\n",
    "def predict_toxicity(comment):\n",
    "    # Tokenize and pad the input comment\n",
    "    test_sequences = tokenizer.texts_to_sequences([comment])\n",
    "    test_data = pad_sequences(test_sequences, maxlen=MAX_SEQUENCE_LENGTH)\n",
    "\n",
    "    # Make predictions\n",
    "    prediction = model.predict(test_data)[0]\n",
    "\n",
    "    # Create a dictionary of results\n",
    "    result = {label: round(pred, 2) for label, pred in zip(toxicity_labels, prediction)}\n",
    "\n",
    "    return result\n",
    "\n",
    "interface = gr.Interface(\n",
    "    fn=predict_toxicity,\n",
    "    inputs=gr.Textbox(lines=2, placeholder=\"Enter a comment to check for toxicity\"), #Change to gr.Textbox\n",
    "    outputs=\"json\",\n",
    "    title=\"Comment Toxicity Detector\",\n",
    "    description=\"Enter a comment, and this tool will predict if the comment contains various types of toxicity like 'toxic', 'severe toxic', 'obscene', 'threat', 'insult', or 'identity hate'.\",\n",
    ")\n",
    "\n",
    "interface.launch()"
   ]
  },
  {
   "cell_type": "code",
   "execution_count": null,
   "metadata": {},
   "outputs": [],
   "source": []
  }
 ],
 "metadata": {
  "colab": {
   "provenance": []
  },
  "kernelspec": {
   "display_name": "Python 3 (ipykernel)",
   "language": "python",
   "name": "python3"
  },
  "language_info": {
   "codemirror_mode": {
    "name": "ipython",
    "version": 3
   },
   "file_extension": ".py",
   "mimetype": "text/x-python",
   "name": "python",
   "nbconvert_exporter": "python",
   "pygments_lexer": "ipython3",
   "version": "3.10.11"
  }
 },
 "nbformat": 4,
 "nbformat_minor": 4
}
